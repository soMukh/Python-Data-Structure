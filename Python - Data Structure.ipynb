{
 "cells": [
  {
   "cell_type": "markdown",
   "metadata": {},
   "source": [
    "Data Types and Structures Questions"
   ]
  },
  {
   "cell_type": "markdown",
   "metadata": {},
   "source": [
    "1. What are data structures, and why are they important?\n",
    "\n",
    "-> Data structures are specialized formats for organizing, storing, and accessing collections of data. They provide efficient ways to manage information based on its characteristics and intended use.\n",
    "They are containers that hold our data and determine how we can interact with it. Different containers are better suited for different types of items.\n",
    "\n",
    "They are important because:\n",
    "1.1. Choosing the right data structure significantly impacts the efficiency and performance of your program.\n",
    "1.2. Well-chosen data structures can:\n",
    "a. Simplify data manipulation (adding, removing, modifying elements)\n",
    "b. Optimize searching and sorting operations\n",
    "c. Conserve memory usage\n",
    "\n",
    "2. Explain the difference between mutable and immutable data types with examples.\n",
    "\n",
    "-> In Python, objects can be either changeable or unchangeable. \n",
    "Mutable objects, such as lists and dictionaries, can be modified after creation, while immutable objects, such as tuples and strings, cannot. \n",
    "Mutability affects how objects are stored and manipulated in memory, impacting performance, memory usage, and concurrency in Python programs. \n",
    "\n",
    "my_list = [1, 2, 3]\n",
    "my_list.append(4)  #my_list will become [1, 2, 3, 4] as list is mutable\n",
    "\n",
    "my_tuple = (1, 2, 3)\n",
    "my_tuple[0] = 5  # This would raise a TypeError since tuples are immutable\n",
    "\n",
    "3. What are the main differences between lists and tuples in Python?\n",
    "\n",
    "-> \tList (list)\t\n",
    "Mutability - Mutable (can change)\t\n",
    "Performance\t- Slower (due to dynamic resizing)\n",
    "Syntax - Defined using []\n",
    "Usage - When modification is needed\n",
    "\n",
    "Example:\n",
    "my_list = [1, 2, 3]  # Can be modified\n",
    "\n",
    "Tuple (tuple)\n",
    "Mutability - Immutable (cannot change)\n",
    "Performance - Faster (fixed size)\n",
    "Syntax - Defined using ()\n",
    "Usage - When data should remain constant\n",
    "\n",
    "Example:\n",
    "my_tuple = (1, 2, 3)  # Cannot be modified\n",
    "\n",
    "4. Describe how dictionaries store data.\n",
    "\n",
    "-> Dictionaries store data in the form of key-value pairs.\n",
    "Elements are not stored in a specific order.\n",
    "Each key acts as a unique identifier for retrieving an associated value.\n",
    "Keys and values can be of various data types (strings, numbers, lists, and even other dictionaries).\n",
    "\n",
    "Example:\n",
    "dict = {\"a\": 1, \"b\": 2}\n",
    "\n",
    "5. Why might you use a set instead of a list in Python?\n",
    "\n",
    "->  We’d use a set instead of a list:\n",
    "a. When we need unique items as a set automatically removes duplicates\n",
    "\n",
    "Example:\n",
    "my_list = [1, 2, 2, 3]\n",
    "my_set = set(my_list)  # {1, 2, 3}\n",
    "\n",
    "b. Fast lookups as checking if an item exists is faster in a set.\n",
    "\n",
    "Example:\n",
    "2 in my_set  # Fast\n",
    "2 in my_list  # Slower if the list is long\n",
    "\n",
    "6. What is a string in Python, and how is it different from a list?\n",
    "\n",
    "-> String in Python is characters arranged in an unchangeable order. Each character in the string can be accessed by its index, or position. String is an immutable data type.\n",
    "Example:\n",
    "name = \"Albert Einstein\"\n",
    "\n",
    "A string and a list are both sequences in Python, but they have key differences:\n",
    "\n",
    "a. Strings are immutable whereas lists are mutable.\n",
    "\n",
    "Example:\n",
    "my_str = \"hello\"\n",
    "my_str[0] = \"H\"  # Error\n",
    "\n",
    "my_list = ['h', 'e', 'l', 'l', 'o']\n",
    "my_list[0] = 'H'  # Allowed\n",
    "\n",
    "b. A string only contains characters whereas a list can contain any data type (numbers, strings, other lists, etc.).\n",
    "\n",
    "Example:\n",
    "my_str = \"hello\"\n",
    "my_list = [1, \"hello\", 3.5, [2, 3]]\n",
    "\n",
    "7. How do tuples ensure data integrity in Python?\n",
    "\n",
    "-> Tuples in Python are immutable, and hence their values cannot be changed after creation. This makes them reliable for storing fixed, unchangeable data and that's how tuples ensure data integrity in Python.\n",
    "\n",
    "Example:\n",
    "my_tuple = (1, 2, 3)\n",
    "my_tuple[0] = 5  # This would raise a TypeError since tuples are immutable\n",
    "\n",
    "8. What is a hash table, and how does it relate to dictionaries in Python?\n",
    "\n",
    "-> A hash table is a data structure that stores key-value pairs using a hashing function to map keys to specific memory locations for fast access.\n",
    "\n",
    "In Python, dictionaries (dict) use hash tables, which means:\n",
    "a. Fast access – Finding a value by its key is almost instant.\n",
    "\n",
    "Example:\n",
    "my_dict = {\"name\": \"Alice\", \"age\": 25}\n",
    "print(my_dict[\"name\"]) # Quick retrieval\n",
    "\n",
    "b. Unique keys – Each key gets a unique \"hash\" for quick lookup.\n",
    "\n",
    "c. Handles collisions – If two keys accidentally get the same hash, Python has a way to manage it.\n",
    "\n",
    "b. Unique Keys: The hash function ensures each key is unique.\n",
    "Collision Handling: If two keys have the same hash, Python resolves conflicts using techniques like open addressing.\n",
    "\n",
    "9. Can lists contain different data types in Python?\n",
    "\n",
    "-> A list in Python can contain any data type (numbers, strings, other lists, etc.).\n",
    "\n",
    "Example:\n",
    "my_list = [1, \"hello\", 3.5, [2, 3]]\n",
    "\n",
    "10. Explain why strings are immutable in Python.\n",
    "\n",
    "-> Strings are immutable in Python because:\n",
    "\n",
    "a. Python reuses strings instead of making copies, saving memory. \n",
    "\n",
    "Example:\n",
    "a = \"hello\"\n",
    "b = \"hello\"\n",
    "print(a is b)  # True (Same memory location)\n",
    "\n",
    "b. If strings were mutable, modifying one could accidentally affect others.\n",
    "\n",
    "Example:\n",
    "name1 = \"Soham\"\n",
    "name2 = name1\n",
    "name1 = \"Rakesh\"  # Creates a new string, doesn't change name2\n",
    "print(name2)  # Soham (remains unchanged)\n",
    "\n",
    "c. Strings are used as keys in dictionaries because their value never changes, ensuring fast lookups.\n",
    "\n",
    "Example:\n",
    "my_dict = {\"name\": \"Soham\"}\n",
    "print(my_dict[\"name\"])  # Fast and reliable\n",
    "\n",
    "11. What advantages do dictionaries offer over lists for certain tasks?\n",
    "\n",
    "-> We'll use dictionaries over lists for certain tasks when:\n",
    "a. When fast lookups are needed.\n",
    "b. When key-value pairs are involved.\n",
    "c. When unique keys are required.\n",
    "\n",
    "12. How do sets handle duplicate values in Python.\n",
    "\n",
    "-> A set in Python automatically removes duplicate values, meaning it only stores unique elements. \n",
    "\n",
    "If we add or try to add duplicate values, Python ignores it and keeps only one copy. This is because sets use a hash table to store elements and hence aach value gets a unique hash, and duplicates aren’t added if the hash already exists.\n",
    "\n",
    "13. Describe a scenario where using a tuple would be preferable over a list?\n",
    "\n",
    "-> When working with database records, each row contains fixed, unchangeable data like ID, Name, and Date of Birth. Since this data should not be modified, using a tuple instead of a list ensures data integrity and efficiency.\n",
    "\n",
    "Example: Storing a User Record\n",
    "user_record = (101, \"Alice\", \"1995-06-15\")  # Tuple (Immutable & Safe)\n",
    "\n",
    "14. How does the “in” keyword work differently for lists and dictionaries?\n",
    "\n",
    "-> in with Lists-\n",
    "a. Searches through all elements one by one.\n",
    "b. Works well for small lists, but is slow for large ones.\n",
    "\n",
    "in with Dictionaries-\n",
    "a. Checks only dictionary keys (not values).\n",
    "b. Uses a hash table, making lookups very fast.\n",
    "\n",
    "15. Can you modify the elements of a tuple? Explain why or why not.\n",
    "\n",
    "-> Tuples in Python are immutable, and hence the elements cannot be modified after creation.\n",
    "\n",
    "Example:\n",
    "my_tuple = (1, 2, 3)\n",
    "my_tuple[0] = 5  # This would raise a TypeError since tuples are immutable\n",
    "\n",
    "16. What is a nested dictionary, and give an example of its use case?\n",
    "\n",
    "-> A nested dictionary is a dictionary inside another dictionary. It allows us to store structured data in a hierarchical format.\n",
    "\n",
    "Example:\n",
    "Use Case: Organizing Books in a Library System\n",
    "A nested dictionary is useful for managing books in a library or bookstore. Each book can have details like title, author, genre, and availability status.\n",
    "\n",
    "library = {\n",
    "    \"978-0143127741\": {\n",
    "        \"title\": \"The Alchemist\",\n",
    "        \"author\": \"Paulo Coelho\",\n",
    "        \"genre\": \"Fiction\",\n",
    "        \"available\": True\n",
    "    },\n",
    "    \"978-0451524935\": {\n",
    "        \"title\": \"1984\",\n",
    "        \"author\": \"George Orwell\",\n",
    "        \"genre\": \"Dystopian\",\n",
    "        \"available\": False\n",
    "    },\n",
    "    \"978-0062315007\": {\n",
    "        \"title\": \"Sapiens\",\n",
    "        \"author\": \"Yuval Noah Harari\",\n",
    "        \"genre\": \"History\",\n",
    "        \"available\": True\n",
    "    }\n",
    "}\n",
    "\n",
    "17. Describe the time complexity of accessing elements in a dictionary.\n",
    "\n",
    "-> Python dictionaries use a hash table, making element access extremely fast in most cases.\n",
    "Dictionary lookups are usually O(1).\n",
    "In rare cases (hash collisions), it can degrade to O(n).\n",
    "\n",
    "18. In what situations are lists preferred over dictionaries?\n",
    "\n",
    "-> While dictionaries are fast for lookups, lists are preferred in certain scenarios, especially when:\n",
    "\n",
    "a. Lists maintain element order, making them ideal for sequential data.\n",
    "b. Lists allow quick access using position-based indexing.\n",
    "c. Lists are more memory-efficient than dictionaries because dictionaries store extra metadata for keys.\n",
    "d. Iterating through a list is faster than iterating through a dictionary’s key-value pairs because dictionaries have extra hashing overhead.\n",
    "\n",
    "19. Why are dictionaries considered unordered, and how does that affect data retrieval?\n",
    "\n",
    "-> Dictionaries are considered unordered because they store keys in a non-deterministic order based on hash values. This meant the insertion order is not preserved, and retrieving elements could return them in a random order.\n",
    "\n",
    "Example:\n",
    "my_dict = {\"a\": 1, \"b\": 2, \"c\": 3}\n",
    "print(my_dict)  # Output could be: {'b': 2, 'c': 3, 'a': 1} (Order is unpredictable)\n",
    "\n",
    "20. Explain the difference between a list and a dictionary in terms of data retrieval.\n",
    "\n",
    "-> Difference between a list and a dictionary in terms of data retrieval:\n",
    "\n",
    "a. Lists store elements sequentially, and we access them using an index (position) while dictionaries store data as key-value pairs and use a hash table for fast lookups.\n",
    "\n",
    "b. Data retrieval in list is fast if we know the index else it is slow if searching for a specific value because Python has to check each item while for a dictionary it is super fast since Python directly maps the key to the value."
   ]
  },
  {
   "cell_type": "markdown",
   "metadata": {},
   "source": [
    "Practical Questions"
   ]
  },
  {
   "cell_type": "code",
   "execution_count": 1,
   "metadata": {},
   "outputs": [
    {
     "name": "stdout",
     "output_type": "stream",
     "text": [
      "My name is Soham Mukherjee\n"
     ]
    }
   ],
   "source": [
    "# 1. Write a code to create a string with your name and print it.\n",
    "\n",
    "name='Soham Mukherjee'\n",
    "print(f\"My name is {name}\")"
   ]
  },
  {
   "cell_type": "code",
   "execution_count": 2,
   "metadata": {},
   "outputs": [
    {
     "name": "stdout",
     "output_type": "stream",
     "text": [
      "Length of the string Hello World is 11\n"
     ]
    }
   ],
   "source": [
    "# 2. Write a code to find the length of the string \"Hello World\".\n",
    "\n",
    "string=\"Hello World\"\n",
    "print(f\"Length of the string {string} is {len(string)}\")"
   ]
  },
  {
   "cell_type": "code",
   "execution_count": 3,
   "metadata": {},
   "outputs": [
    {
     "name": "stdout",
     "output_type": "stream",
     "text": [
      "First three characters of the string Python Programming are Pyt\n"
     ]
    }
   ],
   "source": [
    "# 3. Write a code to slice the first 3 characters from the string \"Python Programming\".\n",
    "\n",
    "string=\"Python Programming\"\n",
    "print(f\"First three characters of the string {string} are {string[0:3]}\")"
   ]
  },
  {
   "cell_type": "code",
   "execution_count": 4,
   "metadata": {},
   "outputs": [
    {
     "name": "stdout",
     "output_type": "stream",
     "text": [
      "String hello in uppercase is HELLO\n"
     ]
    }
   ],
   "source": [
    "# 4. Write a code to convert the string \"hello\" to uppercase.\n",
    "\n",
    "string=\"hello\"\n",
    "print(f\"String {string} in uppercase is {string.upper()}\")"
   ]
  },
  {
   "cell_type": "code",
   "execution_count": 5,
   "metadata": {},
   "outputs": [
    {
     "name": "stdout",
     "output_type": "stream",
     "text": [
      "String 'I like apple' after replacing the word 'apple' with 'orange' is 'I like orange'\n"
     ]
    }
   ],
   "source": [
    "# 5. Write a code to replace the word \"apple\" with \"orange\" in the string \"I like apple\".\n",
    "\n",
    "string=\"I like apple\"\n",
    "print(f\"String '{string}' after replacing the word 'apple' with 'orange' is '{string.replace('apple','orange')}'\")"
   ]
  },
  {
   "cell_type": "code",
   "execution_count": 6,
   "metadata": {},
   "outputs": [
    {
     "name": "stdout",
     "output_type": "stream",
     "text": [
      "List with numbers 1 to 5 is [1, 2, 3, 4, 5]\n"
     ]
    }
   ],
   "source": [
    "# 6. Write a code to create a list with numbers 1 to 5 and print it.\n",
    "\n",
    "listNumber=[1,2,3,4,5]\n",
    "print(f\"List with numbers 1 to 5 is {listNumber}\")"
   ]
  },
  {
   "cell_type": "code",
   "execution_count": 7,
   "metadata": {},
   "outputs": [
    {
     "name": "stdout",
     "output_type": "stream",
     "text": [
      "Original list is [1, 2, 3, 4]\n",
      "List after appending the number 10 to it is [1, 2, 3, 4, 10]\n"
     ]
    }
   ],
   "source": [
    "# 7. Write a code to append the number 10 to the list [1, 2, 3, 4].\n",
    "\n",
    "listNumber=[1, 2, 3, 4]\n",
    "print(f\"Original list is {listNumber}\")\n",
    "listNumber.append(10)\n",
    "print(f\"List after appending the number 10 to it is {listNumber}\")"
   ]
  },
  {
   "cell_type": "code",
   "execution_count": 8,
   "metadata": {},
   "outputs": [
    {
     "name": "stdout",
     "output_type": "stream",
     "text": [
      "Original list is [1, 2, 3, 4, 5]\n",
      "List after removing the number 3 from it is [1, 2, 4, 5]\n"
     ]
    }
   ],
   "source": [
    "# 8. Write a code to remove the number 3 from the list [1, 2, 3, 4, 5].\n",
    "\n",
    "listNumber=[1, 2, 3, 4, 5]\n",
    "print(f\"Original list is {listNumber}\")\n",
    "listNumber.remove(3)\n",
    "print(f\"List after removing the number 3 from it is {listNumber}\")"
   ]
  },
  {
   "cell_type": "code",
   "execution_count": 9,
   "metadata": {},
   "outputs": [
    {
     "name": "stdout",
     "output_type": "stream",
     "text": [
      "Second element in the list ['a', 'b', 'c', 'd'] is b\n"
     ]
    }
   ],
   "source": [
    "# 9. Write a code to access the second element in the list ['a', 'b', 'c', 'd'].\n",
    "\n",
    "listElement=['a', 'b', 'c', 'd']\n",
    "print(f\"Second element in the list {listElement} is {listElement[1]}\")"
   ]
  },
  {
   "cell_type": "code",
   "execution_count": 10,
   "metadata": {},
   "outputs": [
    {
     "name": "stdout",
     "output_type": "stream",
     "text": [
      "Original list is [10, 20, 30, 40, 50]\n",
      "Reversed list is [50, 40, 30, 20, 10]\n"
     ]
    }
   ],
   "source": [
    "# 10. Write a code to reverse the list [10, 20, 30, 40, 50].\n",
    "\n",
    "listNumber=[10, 20, 30, 40, 50]\n",
    "print(f\"Original list is {listNumber}\")\n",
    "listNumber.reverse()\n",
    "print(f\"Reversed list is {listNumber}\")"
   ]
  },
  {
   "cell_type": "code",
   "execution_count": 11,
   "metadata": {},
   "outputs": [
    {
     "name": "stdout",
     "output_type": "stream",
     "text": [
      "Tuple with the elements 100, 200, 300 is (100, 200, 300)\n"
     ]
    }
   ],
   "source": [
    "# 11. Write a code to create a tuple with the elements 100, 200, 300 and print it.\n",
    "\n",
    "tupleNumber=(100,200,300)\n",
    "print(f\"Tuple with the elements 100, 200, 300 is {tupleNumber}\")"
   ]
  },
  {
   "cell_type": "code",
   "execution_count": 12,
   "metadata": {},
   "outputs": [
    {
     "name": "stdout",
     "output_type": "stream",
     "text": [
      "Second-to-last element of the tuple ('red', 'green', 'blue', 'yellow') is blue\n"
     ]
    }
   ],
   "source": [
    "# 12. Write a code to access the second-to-last element of the tuple ('red', 'green', 'blue', 'yellow').\n",
    "\n",
    "tupleElemet=('red', 'green', 'blue', 'yellow')\n",
    "print(f\"Second-to-last element of the tuple {tupleElemet} is {tupleElemet[-2]}\")"
   ]
  },
  {
   "cell_type": "code",
   "execution_count": 13,
   "metadata": {},
   "outputs": [
    {
     "name": "stdout",
     "output_type": "stream",
     "text": [
      "Minimum number in the tuple (10, 20, 5, 15) is 5\n"
     ]
    }
   ],
   "source": [
    "# 13. Write a code to find the minimum number in the tuple (10, 20, 5, 15).\n",
    "\n",
    "tupleNumber=(10, 20, 5, 15)\n",
    "print(f\"Minimum number in the tuple {tupleNumber} is {min(tupleNumber)}\")"
   ]
  },
  {
   "cell_type": "code",
   "execution_count": 14,
   "metadata": {},
   "outputs": [
    {
     "name": "stdout",
     "output_type": "stream",
     "text": [
      "Index of the element 'cat' in the tuple ('dog', 'cat', 'rabbit') is 1\n"
     ]
    }
   ],
   "source": [
    "# 14. Write a code to find the index of the element \"cat\" in the tuple ('dog', 'cat', 'rabbit').\n",
    "\n",
    "tupleElemet=('dog', 'cat', 'rabbit')\n",
    "print(f\"Index of the element 'cat' in the tuple {tupleElemet} is {tupleElemet.index('cat')}\")"
   ]
  },
  {
   "cell_type": "code",
   "execution_count": 15,
   "metadata": {},
   "outputs": [
    {
     "name": "stdout",
     "output_type": "stream",
     "text": [
      "'kiwi' is in tuple ('apple', 'mango', 'kiwi')\n"
     ]
    }
   ],
   "source": [
    "# 15. Write a code to create a tuple containing three different fruits and check if \"kiwi\" is in it.\n",
    "\n",
    "tupleElemet=('apple','mango','kiwi')\n",
    "if 'kiwi' in tupleElemet:\n",
    "    print(f\"'kiwi' is in tuple {tupleElemet}\")\n",
    "else:\n",
    "    print(f\"'kiwi' is not in tuple {tupleElemet}\")"
   ]
  },
  {
   "cell_type": "code",
   "execution_count": 16,
   "metadata": {},
   "outputs": [
    {
     "name": "stdout",
     "output_type": "stream",
     "text": [
      "Set with the elements 'a', 'b', 'c' is {'b', 'a', 'c'}\n"
     ]
    }
   ],
   "source": [
    "# 16. Write a code to create a set with the elements 'a', 'b', 'c' and print it.\n",
    "\n",
    "setElement={'a', 'b', 'c'}\n",
    "print(f\"Set with the elements 'a', 'b', 'c' is {setElement}\")"
   ]
  },
  {
   "cell_type": "code",
   "execution_count": 17,
   "metadata": {},
   "outputs": [
    {
     "name": "stdout",
     "output_type": "stream",
     "text": [
      "Original set is {1, 2, 3, 4, 5}\n",
      "Set after clearing all elements from it is set()\n"
     ]
    }
   ],
   "source": [
    "# 17. Write a code to clear all elements from the set {1, 2, 3, 4, 5}.\n",
    "\n",
    "setNumber={1, 2, 3, 4, 5}\n",
    "print(f\"Original set is {setNumber}\")\n",
    "setNumber.clear()\n",
    "print(f\"Set after clearing all elements from it is {setNumber}\")"
   ]
  },
  {
   "cell_type": "code",
   "execution_count": 18,
   "metadata": {},
   "outputs": [
    {
     "name": "stdout",
     "output_type": "stream",
     "text": [
      "Original set is {1, 2, 3, 4}\n",
      "Set after removing the element 4 from it is {1, 2, 3}\n"
     ]
    }
   ],
   "source": [
    "# 18. Write a code to remove the element 4 from the set {1, 2, 3, 4}.\n",
    "\n",
    "setNumber={1, 2, 3, 4}\n",
    "print(f\"Original set is {setNumber}\")\n",
    "setNumber.remove(4)\n",
    "print(f\"Set after removing the element 4 from it is {setNumber}\")\n",
    "\n"
   ]
  },
  {
   "cell_type": "code",
   "execution_count": 19,
   "metadata": {},
   "outputs": [
    {
     "name": "stdout",
     "output_type": "stream",
     "text": [
      "First set is {1, 2, 3}\n",
      "Second set is {3, 4, 5}\n",
      "Union of the two sets is {1, 2, 3, 4, 5}\n"
     ]
    }
   ],
   "source": [
    "# 19. Write a code to find the union of two sets {1, 2, 3} and {3, 4, 5}.\n",
    "\n",
    "set1={1, 2, 3}\n",
    "set2={3, 4, 5}\n",
    "print(f\"First set is {set1}\")\n",
    "print(f\"Second set is {set2}\")\n",
    "print(f\"Union of the two sets is {set1|set2}\")"
   ]
  },
  {
   "cell_type": "code",
   "execution_count": 20,
   "metadata": {},
   "outputs": [
    {
     "name": "stdout",
     "output_type": "stream",
     "text": [
      "First set is {1, 2, 3}\n",
      "Second set is {2, 3, 4}\n",
      "Intersection of the two sets is {2, 3}\n"
     ]
    }
   ],
   "source": [
    "# 20. Write a code to find the intersection of two sets {1, 2, 3} and {2, 3, 4}.\n",
    "\n",
    "set1={1, 2, 3}\n",
    "set2={2, 3, 4}\n",
    "print(f\"First set is {set1}\")\n",
    "print(f\"Second set is {set2}\")\n",
    "print(f\"Intersection of the two sets is {set1&set2}\")"
   ]
  },
  {
   "cell_type": "code",
   "execution_count": 21,
   "metadata": {},
   "outputs": [
    {
     "name": "stdout",
     "output_type": "stream",
     "text": [
      "Dictionary with the keys 'name', 'age', and 'city' is {'name': 'Soham Mukherjee', 'age': 23, 'city': 'Mumbai'}\n"
     ]
    }
   ],
   "source": [
    "# 21. Write a code to create a dictionary with the keys \"name\", \"age\", and \"city\", and print it.\n",
    "\n",
    "dictionary={\"name\":\"Soham Mukherjee\",\"age\":23,\"city\":\"Mumbai\"}\n",
    "print(f\"Dictionary with the keys 'name', 'age', and 'city' is {dictionary}\")"
   ]
  },
  {
   "cell_type": "code",
   "execution_count": 22,
   "metadata": {},
   "outputs": [
    {
     "name": "stdout",
     "output_type": "stream",
     "text": [
      "Original dictionary is {'name': 'John', 'age': 25}\n",
      "Dictionary after adding a new key-value pair 'country': 'USA' to it is {'name': 'John', 'age': 25, 'country': 'USA'}\n"
     ]
    }
   ],
   "source": [
    "# 22. Write a code to add a new key-value pair \"country\": \"USA\" to the dictionary {'name': 'John', 'age': 25}.\n",
    "\n",
    "dictionary={'name': 'John', 'age': 25}\n",
    "print(f\"Original dictionary is {dictionary}\")\n",
    "dictionary.update({\"country\": \"USA\"})\n",
    "print(f\"Dictionary after adding a new key-value pair 'country': 'USA' to it is {dictionary}\")"
   ]
  },
  {
   "cell_type": "code",
   "execution_count": 23,
   "metadata": {},
   "outputs": [
    {
     "name": "stdout",
     "output_type": "stream",
     "text": [
      "Value associated with the key 'name' in the dictionary {'name': 'Alice', 'age': 30} is Alice\n"
     ]
    }
   ],
   "source": [
    "# 23. Write a code to access the value associated with the key \"name\" in the dictionary {'name': 'Alice', 'age': 30}.\n",
    "\n",
    "dictionary={'name': 'Alice', 'age': 30}\n",
    "print(f\"Value associated with the key 'name' in the dictionary {dictionary} is {dictionary['name']}\")"
   ]
  },
  {
   "cell_type": "code",
   "execution_count": 24,
   "metadata": {},
   "outputs": [
    {
     "name": "stdout",
     "output_type": "stream",
     "text": [
      "Original dictionary is {'name': 'Bob', 'age': 22, 'city': 'New York'}\n",
      "Dictionary after removing the key 'age' from it is {'name': 'Bob', 'city': 'New York'}\n"
     ]
    }
   ],
   "source": [
    "# 24. Write a code to remove the key \"age\" from the dictionary {'name': 'Bob', 'age': 22, 'city': 'New York'}.\n",
    "\n",
    "dictionary={'name': 'Bob', 'age': 22, 'city': 'New York'}\n",
    "print(f\"Original dictionary is {dictionary}\")\n",
    "dictionary.pop('age')\n",
    "print(f\"Dictionary after removing the key 'age' from it is {dictionary}\")"
   ]
  },
  {
   "cell_type": "code",
   "execution_count": 25,
   "metadata": {},
   "outputs": [
    {
     "name": "stdout",
     "output_type": "stream",
     "text": [
      "Key 'city' exists in dictionary {'name': 'Alice', 'city': 'Paris'}\n"
     ]
    }
   ],
   "source": [
    "# 25. Write a code to check if the key \"city\" exists in the dictionary {'name': 'Alice', 'city': 'Paris'}.\n",
    "\n",
    "dictionary={'name': 'Alice', 'city': 'Paris'}\n",
    "if 'city' in dictionary:\n",
    "    print(f\"Key 'city' exists in dictionary {dictionary}\")\n",
    "else:\n",
    "    print(f\"Key 'city' doesn't exists in dictionary {dictionary}\")"
   ]
  },
  {
   "cell_type": "code",
   "execution_count": 26,
   "metadata": {},
   "outputs": [
    {
     "name": "stdout",
     "output_type": "stream",
     "text": [
      "List is [1, 2, 3]\n",
      "Tuple is (1, 2, 3)\n",
      "Dictionary is {'num1': 1, 'num2': 2, 'num3': 3}\n"
     ]
    }
   ],
   "source": [
    "# 26. Write a code to create a list, a tuple, and a dictionary, and print them all.\n",
    "\n",
    "listNumber=[1,2,3]\n",
    "tupleNumber=(1,2,3)\n",
    "dictionary={'num1':1,'num2':2,'num3':3}\n",
    "print(f\"List is {listNumber}\")\n",
    "print(f\"Tuple is {tupleNumber}\")\n",
    "print(f\"Dictionary is {dictionary}\")"
   ]
  },
  {
   "cell_type": "code",
   "execution_count": 27,
   "metadata": {},
   "outputs": [
    {
     "name": "stdout",
     "output_type": "stream",
     "text": [
      "List of 5 random numbers between 1 and 100 is [41, 66, 16, 75, 83]\n",
      "List after sorting is [16, 41, 66, 75, 83]\n"
     ]
    }
   ],
   "source": [
    "# 27. Write a code to create a list of 5 random numbers between 1 and 100, sort it in ascending order, and print the result.(replaced)\n",
    "\n",
    "import random\n",
    "listNumber=[]\n",
    "while len(listNumber)!=5:\n",
    "    num=random.randint(1,100)\n",
    "    if num not in listNumber:\n",
    "        listNumber.append(num)\n",
    "print(f\"List of 5 random numbers between 1 and 100 is {listNumber}\")\n",
    "listNumber.sort()\n",
    "print(f\"List after sorting is {listNumber}\")"
   ]
  },
  {
   "cell_type": "code",
   "execution_count": 28,
   "metadata": {},
   "outputs": [
    {
     "name": "stdout",
     "output_type": "stream",
     "text": [
      "Element at third index in the list ['book', 'name', 'age', 'qualification', 'hobby'] is age\n"
     ]
    }
   ],
   "source": [
    "# 28. Write a code to create a list with strings and print the element at the third index.\n",
    "\n",
    "listElement=['book','name','age','qualification','hobby']\n",
    "print(f\"Element at third index in the list {listElement} is {listElement[2]}\")"
   ]
  },
  {
   "cell_type": "code",
   "execution_count": 29,
   "metadata": {},
   "outputs": [
    {
     "name": "stdout",
     "output_type": "stream",
     "text": [
      "Dictionary after combining\n",
      "{'Person1': {'name': 'Soham Mukherjee', 'age': 23, 'city': 'Mumbai'}} and\n",
      "{'Person2': {'name': 'Bob', 'age': 22, 'city': 'New York'}} is\n",
      "{'Person1': {'name': 'Soham Mukherjee', 'age': 23, 'city': 'Mumbai'}, 'Person2': {'name': 'Bob', 'age': 22, 'city': 'New York'}}\n"
     ]
    }
   ],
   "source": [
    "# 29. Write a code to combine two dictionaries into one and print the result.\n",
    "\n",
    "dict1={'Person1':{\"name\":\"Soham Mukherjee\",\"age\":23,\"city\":\"Mumbai\"}}\n",
    "dict2={'Person2':{'name': 'Bob', 'age': 22, 'city': 'New York'}}\n",
    "dict3={**dict1,**dict2}\n",
    "print(f\"Dictionary after combining\\n{dict1} and\\n{dict2} is\\n{dict3}\")"
   ]
  },
  {
   "cell_type": "code",
   "execution_count": 30,
   "metadata": {},
   "outputs": [
    {
     "name": "stdout",
     "output_type": "stream",
     "text": [
      "List is ['book', 'name', 'age', 'qualification', 'hobby', 'hobby']\n",
      "After converting the list into a set is {'qualification', 'book', 'hobby', 'name', 'age'}\n"
     ]
    }
   ],
   "source": [
    "# 30. Write a code to convert a list of strings into a set.\n",
    "\n",
    "listString=['book','name','age','qualification','hobby','hobby']\n",
    "print(f\"List is {listString}\")\n",
    "print(f\"After converting the list into a set is {set(listString)}\")"
   ]
  }
 ],
 "metadata": {
  "kernelspec": {
   "display_name": "Python 3",
   "language": "python",
   "name": "python3"
  },
  "language_info": {
   "codemirror_mode": {
    "name": "ipython",
    "version": 3
   },
   "file_extension": ".py",
   "mimetype": "text/x-python",
   "name": "python",
   "nbconvert_exporter": "python",
   "pygments_lexer": "ipython3",
   "version": "3.13.2"
  }
 },
 "nbformat": 4,
 "nbformat_minor": 2
}
